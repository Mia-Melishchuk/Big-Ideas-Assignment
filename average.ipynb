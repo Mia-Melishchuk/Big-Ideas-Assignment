{
 "cells": [
  {
   "cell_type": "code",
   "execution_count": 3,
   "id": "fc454a79-1167-4d8b-9ae1-b84286b8182f",
   "metadata": {},
   "outputs": [
    {
     "name": "stdin",
     "output_type": "stream",
     "text": [
      "What is your name?  Mia\n"
     ]
    },
    {
     "name": "stdout",
     "output_type": "stream",
     "text": [
      "Hello Mia\n"
     ]
    },
    {
     "name": "stdin",
     "output_type": "stream",
     "text": [
      "Enter a number (press only enter to stop):  3\n",
      "Enter a number (press only enter to stop):  6\n",
      "Enter a number (press only enter to stop):  9\n",
      "Enter a number (press only enter to stop):  12\n",
      "Enter a number (press only enter to stop):  15\n",
      "Enter a number (press only enter to stop):  18\n",
      "Enter a number (press only enter to stop):  \n"
     ]
    },
    {
     "name": "stdout",
     "output_type": "stream",
     "text": [
      "Average: 10.5\n"
     ]
    }
   ],
   "source": [
    "name = input(\"What is your name? \")\n",
    "print(\"Hello\", name)\n",
    "num = input(\"Enter a number (press only enter to stop): \")\n",
    "total = 0\n",
    "count = 0\n",
    "while num != \"\":\n",
    "    total += int(num)\n",
    "    count += 1\n",
    "    num = input(\"Enter a number (press only enter to stop): \")\n",
    "print(\"Average: \" + str(total/count))"
   ]
  },
  {
   "cell_type": "code",
   "execution_count": null,
   "id": "192b68c4-05bf-487f-bead-42a432cf2688",
   "metadata": {},
   "outputs": [],
   "source": []
  }
 ],
 "metadata": {
  "kernelspec": {
   "display_name": "Python 3 (ipykernel)",
   "language": "python",
   "name": "python3"
  },
  "language_info": {
   "codemirror_mode": {
    "name": "ipython",
    "version": 3
   },
   "file_extension": ".py",
   "mimetype": "text/x-python",
   "name": "python",
   "nbconvert_exporter": "python",
   "pygments_lexer": "ipython3",
   "version": "3.11.13"
  }
 },
 "nbformat": 4,
 "nbformat_minor": 5
}
