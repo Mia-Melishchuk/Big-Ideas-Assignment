{
 "cells": [
  {
   "cell_type": "code",
   "execution_count": 7,
   "id": "17109ecc-e6d6-44e3-ad63-5fbd5cd88b7f",
   "metadata": {},
   "outputs": [
    {
     "name": "stdout",
     "output_type": "stream",
     "text": [
      "Welcome, To this Lab Exercise!\n"
     ]
    },
    {
     "name": "stdin",
     "output_type": "stream",
     "text": [
      " What is your name? Ayomikun Osho\n"
     ]
    },
    {
     "name": "stdout",
     "output_type": "stream",
     "text": [
      "Today, We're going to make a program that takes the average of all the numbers that you \"Ayomikun Osho\"  will be entering\n"
     ]
    },
    {
     "name": "stdin",
     "output_type": "stream",
     "text": [
      "Enter a number (press only enter to stop):  4\n",
      "Enter a number (press only enter to stop):  5\n",
      "Enter a number (press only enter to stop):  7\n",
      "Enter a number (press only enter to stop):  1\n",
      "Enter a number (press only enter to stop):  9\n",
      "Enter a number (press only enter to stop):  \n"
     ]
    },
    {
     "name": "stdout",
     "output_type": "stream",
     "text": [
      "The Average of all the numbers you have entered us 5.2\n"
     ]
    }
   ],
   "source": [
    "print(\"Welcome, To this Lab Exercise!\")\n",
    "you = input(\" What is your name?\" )\n",
    "print(\"Today, We're going to make a program that takes the average of all the numbers that you\", '\"' + you + '\"', \" will be entering\" )\n",
    "num = input(\"Enter a number (press only enter to stop): \")\n",
    "total = 0 #This variable will be used to accumulate the sum of all the numbers, you enters.\n",
    "count = 0 #This variable will used to acummulate how many numbers you enter\n",
    "while num != \"\":\n",
    "    total += int(num) \n",
    "    count += 1\n",
    "    num = input(\"Enter a number (press only enter to stop): \")\n",
    "print(\"The Average of all the numbers you have entered is \" + str(total/count))"
   ]
  }
 ],
 "metadata": {
  "kernelspec": {
   "display_name": "Python 3 (ipykernel)",
   "language": "python",
   "name": "python3"
  },
  "language_info": {
   "codemirror_mode": {
    "name": "ipython",
    "version": 3
   },
   "file_extension": ".py",
   "mimetype": "text/x-python",
   "name": "python",
   "nbconvert_exporter": "python",
   "pygments_lexer": "ipython3",
   "version": "3.11.13"
  }
 },
 "nbformat": 4,
 "nbformat_minor": 5
}
